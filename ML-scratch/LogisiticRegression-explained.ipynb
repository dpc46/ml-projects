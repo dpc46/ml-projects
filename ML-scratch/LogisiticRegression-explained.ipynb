{
 "cells": [
  {
   "cell_type": "markdown",
   "metadata": {},
   "source": [
    "# Logistic Regression"
   ]
  },
  {
   "cell_type": "markdown",
   "metadata": {},
   "source": [
    "## Logistic Regression background\n",
    "\n",
    "The logistic regression model is a two class model, best used for predicting outputs that could be binary in nature (e.g. win/lose, 0/1).\n",
    "\n",
    "This offers a signifcant difference to Linear regression, where outputs can be continuous. \n",
    "\n",
    "We use the Sigmoidal function to estimate the probability of an event happening for a given input/independent variable. If the result is > 0.5 we class the event to happen and if the result is < 0.5 we class the event as not happening.\n",
    "\n",
    "Technically, given the conditional distribution of y | x has a binary y it Bernoulli, whereas for Linear regression y | x is a Gaussian distribution."
   ]
  },
  {
   "cell_type": "code",
   "execution_count": 15,
   "metadata": {},
   "outputs": [
    {
     "data": {
      "image/png": "[encoded data removed]",
      "text/plain": [
       "<Figure size 720x432 with 1 Axes>"
      ]
     },
     "metadata": {
      "needs_background": "light"
     },
     "output_type": "display_data"
    }
   ],
   "source": [
    "import matplotlib.pyplot as plt\n",
    "import math\n",
    "import numpy as np\n",
    "\n",
    "x = np.linspace(-5, 5, 100)\n",
    "s = 1 / (1 + (math.e)**-x)\n",
    "\n",
    "f, ax = plt.subplots(figsize=(10, 6))\n",
    "ax.plot(x, s, label=\"Sigmoidal Function\", color=\"r\")\n",
    "ax.set_xlabel(\"x\")\n",
    "ax.set_ylabel(\"S(x)\")\n",
    "ax.set_title(\"Sigmoid Function\")\n",
    "ax.grid(True)\n",
    "\n"
   ]
  },
  {
   "cell_type": "markdown",
   "metadata": {},
   "source": [
    "## Sigmoid Function\n",
    "\n",
    "The Sigmoid function is $$ S(x) = \\frac{1}{1 + e^{-x}} $$ such that $ 0 < S(x) < 1 $"
   ]
  },
  {
   "cell_type": "markdown",
   "metadata": {},
   "source": [
    "## Differences with Linear Regression\n",
    "\n",
    "In Linear regression we use the approximation $ f(w, b) = \\hat{y} = wx + b $ \n",
    "\n",
    "In Logistic regression we use $ \\large \\hat{y} = h_\\theta (x) = \\frac{1}{1 + e^{-wx + b}} $ \n",
    "\n",
    "\n",
    "The cost function also differs between the two methods. In Linear regression the Mean Squared Error is used, whereas in Logisitic regression the \"Cross Entropy\" function is used.\n",
    "\n",
    "$$\n",
    "J(w, b) = J(\\theta) = \\frac{1}{N} \\sum_{i=1}^N [y^i\\log{(h_{\\theta}(x^i))} + (1 - y^i)\\log{(1 - h_{\\theta}(x^i))}]\n",
    "$$\n",
    "\n",
    "However, in both cases we use the Gradient Descent method to optimise the paramters $(w, b)$, introducing the learning rate parameter $\\alpha$ "
   ]
  },
  {
   "cell_type": "markdown",
   "metadata": {},
   "source": [
    "## Gradient Descent for Logistic Regression\n",
    "\n",
    "$$ \\large\n",
    "J^\\prime (\\theta) = \\begin{bmatrix} \\frac{dJ}{dw}\\\\ \\frac{dJ}{db} \\end{bmatrix}\n",
    "= \\begin{bmatrix} \\frac{1}{N} \\sum 2x_i(\\hat{y} - y)\\\\ \\frac{1}{N} \\sum 2(\\hat{y} - y) \\end{bmatrix}\n",
    "$$\n",
    "\n",
    "Similarly to the Linear regression, we note the steepest decent of the vector $\\vec{J(\\theta)}$ is simply $\\nabla \\vec{J(\\theta)}$. We choose the $i + 1^{th}$ set of parameters such that:\n",
    "\n",
    "$$\n",
    "\\begin{bmatrix} w_{i + 1} \\\\ b_{i + 1} \\end{bmatrix} = \\begin{bmatrix} w_{i} \\\\ b_{i} \\end{bmatrix} - \\alpha \\begin{bmatrix} dw_{i} \\\\ db_{i} \\end{bmatrix}  \n",
    "$$\n",
    "\n",
    "Beautifully, this means that $\\nabla \\vec{J}$ is the same for both Logistic and Linear regression!"
   ]
  }
 ],
 "metadata": {
  "interpreter": {
   "hash": "58e202cc2742429161fa37282d912166af2d8a9c86272d39640ddd297c4a8613"
  },
  "kernelspec": {
   "display_name": "Python 3.8.8 64-bit ('base': conda)",
   "name": "python3"
  },
  "language_info": {
   "codemirror_mode": {
    "name": "ipython",
    "version": 3
   },
   "file_extension": ".py",
   "mimetype": "text/x-python",
   "name": "python",
   "nbconvert_exporter": "python",
   "pygments_lexer": "ipython3",
   "version": "3.8.8"
  },
  "orig_nbformat": 4
 },
 "nbformat": 4,
 "nbformat_minor": 2
}
